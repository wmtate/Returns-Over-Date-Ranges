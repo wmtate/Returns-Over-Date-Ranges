{
 "cells": [
  {
   "cell_type": "markdown",
   "metadata": {},
   "source": [
    "### Student Activity: Returns Over Date Ranges\n",
    "\n",
    "This program reads daily stock data from a CSV, trims extraneous columns, converts date strings to datetime objects, sets the datetimes as the index, and calculates and plots returns for specified date ranges."
   ]
  },
  {
   "cell_type": "code",
   "execution_count": 1,
   "metadata": {},
   "outputs": [],
   "source": [
    "# Import libraries and dependencies\n",
    "import pandas as pd\n",
    "from pathlib import Path\n",
    "%matplotlib inline"
   ]
  },
  {
   "cell_type": "markdown",
   "metadata": {},
   "source": [
    "### Read CSV in as DataFrame"
   ]
  },
  {
   "cell_type": "code",
   "execution_count": null,
   "metadata": {},
   "outputs": [],
   "source": [
    "# Set the path\n",
    "file_path = Path('../Resources/amd_stock_data.csv')\n",
    "\n",
    "# Read in the CSV as a DataFrame\n",
    "amd_csv = pd.read_csv(file_path)\n",
    "amd_csv.head()"
   ]
  },
  {
   "cell_type": "markdown",
   "metadata": {},
   "source": [
    "### View Summary Statistics"
   ]
  },
  {
   "cell_type": "code",
   "execution_count": null,
   "metadata": {},
   "outputs": [],
   "source": [
    "# Output summary statistics for csv data\n",
    "amd_csv.describe()"
   ]
  },
  {
   "cell_type": "markdown",
   "metadata": {},
   "source": [
    "### Drop Extra Columns"
   ]
  },
  {
   "cell_type": "code",
   "execution_count": null,
   "metadata": {},
   "outputs": [],
   "source": [
    "# Drop unnecessary columns\n",
    "amd_csv.drop(columns=['volume', 'open', 'high', 'low'], inplace=True)\n",
    "amd_csv.head()"
   ]
  },
  {
   "cell_type": "markdown",
   "metadata": {},
   "source": [
    "### Set Date as Index"
   ]
  },
  {
   "cell_type": "code",
   "execution_count": null,
   "metadata": {},
   "outputs": [],
   "source": [
    "# Set the date as the index to the DataFrame\n",
    "amd_csv.set_index(pd.to_datetime(amd_csv['date'], infer_datetime_format=True), inplace=True)\n",
    "amd_csv.head()"
   ]
  },
  {
   "cell_type": "markdown",
   "metadata": {},
   "source": [
    "### Drop Extra Date Column"
   ]
  },
  {
   "cell_type": "code",
   "execution_count": null,
   "metadata": {},
   "outputs": [],
   "source": [
    "# Drop the extra date column\n",
    "amd_csv.drop(columns=['date'], inplace=True)\n",
    "amd_csv.head()"
   ]
  },
  {
   "cell_type": "markdown",
   "metadata": {},
   "source": [
    "### Calculate Daily Returns"
   ]
  },
  {
   "cell_type": "code",
   "execution_count": null,
   "metadata": {},
   "outputs": [],
   "source": [
    "# Calculate the daily return over the last 10 years\n",
    "daily_return = amd_csv.pct_change()\n",
    "daily_return.head()"
   ]
  },
  {
   "cell_type": "markdown",
   "metadata": {},
   "source": [
    "### Use Indexing to Create Date Ranges"
   ]
  },
  {
   "cell_type": "code",
   "execution_count": null,
   "metadata": {},
   "outputs": [],
   "source": [
    "# Slice DataFrame into 1 year timeframe\n",
    "daily_return_1_year = daily_return.loc['2018-04-30':'2019-04-29']\n",
    "daily_return_1_year\n",
    "\n",
    "# Slice DataFrame into 3 year timeframe\n",
    "daily_return_3_year = daily_return.loc['2016-04-29':'2019-04-29']\n",
    "daily_return_3_year\n",
    "\n",
    "# Slice DataFrame into 5 year timeframe\n",
    "daily_return_5_year = daily_return.loc['2014-04-30':'2019-04-29']\n",
    "daily_return_5_year\n",
    "\n",
    "# Slice DataFrame into 10 year timeframe\n",
    "daily_return_10_year = daily_return.loc['2009-04-29':'2019-04-29']\n",
    "daily_return_10_year"
   ]
  },
  {
   "cell_type": "markdown",
   "metadata": {},
   "source": [
    "### Output Summary Statistics for 1 Year of Daily Returns "
   ]
  },
  {
   "cell_type": "code",
   "execution_count": null,
   "metadata": {},
   "outputs": [],
   "source": [
    "# Display summary statistics for 1 year of AMD stock data\n",
    "daily_return_1_year.describe()"
   ]
  },
  {
   "cell_type": "markdown",
   "metadata": {},
   "source": [
    "### Output Summary Statistics for 3 Years of Daily Returns "
   ]
  },
  {
   "cell_type": "code",
   "execution_count": null,
   "metadata": {},
   "outputs": [],
   "source": [
    "# Display summary statistics for 3 years of AMD stock data\n",
    "daily_return_3_year.describe()"
   ]
  },
  {
   "cell_type": "markdown",
   "metadata": {},
   "source": [
    "### Output Summary Statistics for 5 Years of Daily Returns"
   ]
  },
  {
   "cell_type": "code",
   "execution_count": null,
   "metadata": {},
   "outputs": [],
   "source": [
    "# Display summary statistics for 5 years of AMD stock data\n",
    "daily_return_5_year.describe()"
   ]
  },
  {
   "cell_type": "markdown",
   "metadata": {},
   "source": [
    "### Output Summary Statistics for 10 Years of Daily Returns "
   ]
  },
  {
   "cell_type": "code",
   "execution_count": null,
   "metadata": {},
   "outputs": [],
   "source": [
    "# Display summary statistics for 10 years of AMD stock data\n",
    "daily_return_10_year.describe()"
   ]
  },
  {
   "cell_type": "markdown",
   "metadata": {},
   "source": [
    "### Plot 1 Year of Daily Returns "
   ]
  },
  {
   "cell_type": "code",
   "execution_count": null,
   "metadata": {},
   "outputs": [],
   "source": [
    "# Display chart of 1 year's worth of daily AMD returns\n",
    "daily_return_1_year.plot()"
   ]
  },
  {
   "cell_type": "markdown",
   "metadata": {},
   "source": [
    "### Plot 3 Years of Daily Returns"
   ]
  },
  {
   "cell_type": "code",
   "execution_count": null,
   "metadata": {},
   "outputs": [],
   "source": [
    "# Display chart of 3 year's worth of daily AMD returns\n",
    "daily_return_3_year.plot()"
   ]
  },
  {
   "cell_type": "markdown",
   "metadata": {},
   "source": [
    "### Plot 5 Years of Daily Returns"
   ]
  },
  {
   "cell_type": "code",
   "execution_count": null,
   "metadata": {},
   "outputs": [],
   "source": [
    "# Display chart of 5 year's worth of daily AMD returns\n",
    "daily_return_5_year.plot()"
   ]
  },
  {
   "cell_type": "markdown",
   "metadata": {},
   "source": [
    "### Plot 10 Years of Daily Returns"
   ]
  },
  {
   "cell_type": "code",
   "execution_count": null,
   "metadata": {},
   "outputs": [],
   "source": [
    "# Display chart of 10 year's worth of daily AMD returns\n",
    "daily_return_10_year.plot()"
   ]
  },
  {
   "cell_type": "markdown",
   "metadata": {},
   "source": [
    "### Analyze Daily Returns over Date Ranges\n",
    "\n",
    "1. What are the average daily returns over each date range?\n",
    "\n",
    "    * 1 Year = 0.004538 or 4.53%\n",
    "    * 3 Year = 0.003455 or 3.45%\n",
    "    * 5 Year = 0.002304 or 2.30%\n",
    "    * 10 Year = 0.001488 or 1.49%\n",
    "    \n",
    "    \n",
    "2. What insights could this provide in regards to wanting to trade AMD stock in the long-term vs. short-term? \n",
    "\n",
    "    Based on the varying distributions of daily returns over 1 Year, 3 Year, 5 Year, and 10 Year periods, it would appear at though trading AMD in the short-term would more be profitable."
   ]
  }
 ],
 "metadata": {
  "kernelspec": {
   "display_name": "Python 3",
   "language": "python",
   "name": "python3"
  },
  "language_info": {
   "codemirror_mode": {
    "name": "ipython",
    "version": 3
   },
   "file_extension": ".py",
   "mimetype": "text/x-python",
   "name": "python",
   "nbconvert_exporter": "python",
   "pygments_lexer": "ipython3",
   "version": "3.7.9"
  }
 },
 "nbformat": 4,
 "nbformat_minor": 4
}
